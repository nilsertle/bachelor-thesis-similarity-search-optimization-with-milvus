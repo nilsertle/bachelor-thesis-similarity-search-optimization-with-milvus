{
 "cells": [
  {
   "cell_type": "code",
   "execution_count": 1,
   "metadata": {},
   "outputs": [],
   "source": [
    "import csv\n",
    "from glob import glob\n",
    "from pathlib import Path\n",
    "from statistics import mean\n",
    "\n",
    "from pymilvus import connections, FieldSchema, CollectionSchema, DataType, Collection, utility\n",
    "from towhee.dc2 import pipe, ops, DataCollection\n",
    "from PIL import Image\n",
    "from datasets import load_dataset\n",
    "\n",
    "# Towhee parameters\n",
    "MODEL = 'resnet50'\n",
    "DEVICE = None # if None, use default device (cuda is enabled if available)\n",
    "\n",
    "# Milvus parameters\n",
    "HOST = '127.0.0.1'\n",
    "PORT = '19530'\n",
    "TOPK = 10\n",
    "DIM = 2048 # dimension of feature vectors for \"resnet50\"\n",
    "COLLECTION_NAME = 'reverse_image_search'\n",
    "INDEX_TYPE = 'IVF_FLAT'\n",
    "METRIC_TYPE = 'L2'\n",
    "\n",
    "# path to csv (column_1 indicates image path) OR a pattern of image paths\n",
    "INSERT_SRC = 'reverse_image_search.csv'\n",
    "INSERT_SRC_TINY = \"tiny_imagenet_200_reverse_image_search.csv\"\n",
    "QUERY_SRC = './test/*/*.JPEG'"
   ]
  },
  {
   "attachments": {},
   "cell_type": "markdown",
   "metadata": {},
   "source": [
    "## Create Image Embeddings"
   ]
  },
  {
   "cell_type": "code",
   "execution_count": 2,
   "metadata": {},
   "outputs": [],
   "source": [
    "# Load image path\n",
    "def load_image(x):\n",
    "    if x.endswith('csv'):\n",
    "        with open(x) as f:\n",
    "            reader = csv.reader(f)\n",
    "            next(reader)\n",
    "            for item in reader:\n",
    "                yield item[1]\n",
    "    else:\n",
    "        for item in glob(x):\n",
    "            yield item\n",
    "\n",
    "def display_img_vec(img):\n",
    "    display(img)\n",
    "    return img\n",
    "\n",
    "p_embed = (\n",
    "    pipe.input('img')\n",
    "        .map('img', 'vec', ops.image_embedding.timm(model_name=MODEL, device=DEVICE))\n",
    ")"
   ]
  },
  {
   "cell_type": "code",
   "execution_count": 3,
   "metadata": {},
   "outputs": [
    {
     "name": "stderr",
     "output_type": "stream",
     "text": [
      "2023-06-09 19:20:57,991 - 8745886976 - builder.py-builder:816 - WARNING: Found cached dataset parquet (/Users/nilsertle/.cache/huggingface/datasets/Maysee___parquet/Maysee--tiny-imagenet-35af7c46a941f08e/0.0.0/2a3b91fbd88a2c90d1dbbb32b460cf621d31bd5b05b934492fdef7d8d6f236ec)\n"
     ]
    },
    {
     "data": {
      "text/html": [
       "<table style=\"border-collapse: collapse;\"><tr><th style=\"text-align: center; font-size: 130%; border: none;\">vec</th></tr> <tr><td style=\"text-align: left; vertical-align: center; border-right: solid 1px #D3D3D3; border-left: solid 1px #D3D3D3; \">[0.0, 0.0, 0.00839724, ...] shape=(2048,)</td></tr></table>"
      ],
      "text/plain": [
       "<IPython.core.display.HTML object>"
      ]
     },
     "metadata": {},
     "output_type": "display_data"
    }
   ],
   "source": [
    "tiny_imagenet = load_dataset('Maysee/tiny-imagenet', split='train')[:1][\"image\"][0]\n",
    "p_display = p_embed.output('vec')\n",
    "DataCollection(p_display(tiny_imagenet)).show()"
   ]
  },
  {
   "attachments": {},
   "cell_type": "markdown",
   "metadata": {},
   "source": [
    "## Create Database Collection"
   ]
  },
  {
   "cell_type": "code",
   "execution_count": 4,
   "metadata": {},
   "outputs": [],
   "source": [
    "# Create milvus collection (delete first if exists)\n",
    "def create_milvus_collection(collection_name, dim):\n",
    "    if utility.has_collection(collection_name):\n",
    "        utility.drop_collection(collection_name)\n",
    "    \n",
    "    fields = [\n",
    "        FieldSchema(name='path', dtype=DataType.VARCHAR, description='path to image', max_length=500, \n",
    "                    is_primary=True, auto_id=False),\n",
    "        FieldSchema(name='embedding', dtype=DataType.FLOAT_VECTOR, description='image embedding vectors', dim=dim)\n",
    "    ]\n",
    "    schema = CollectionSchema(fields=fields, description='reverse image search')\n",
    "    collection = Collection(name=collection_name, schema=schema)\n",
    "\n",
    "    index_params = {\n",
    "        'metric_type': METRIC_TYPE,\n",
    "        'index_type': INDEX_TYPE,\n",
    "        'params': {\"nlist\": 2048}\n",
    "    }\n",
    "    collection.create_index(field_name='embedding', index_params=index_params)\n",
    "    return collection"
   ]
  },
  {
   "cell_type": "code",
   "execution_count": 5,
   "metadata": {},
   "outputs": [
    {
     "name": "stderr",
     "output_type": "stream",
     "text": [
      "2023-06-09 19:41:07,841 - 8636474624 - decorators.py-decorators:71 - WARNING: \u001b[93m[has_collection] retry:4, cost: 0.27s, reason: <_MultiThreadedRendezvous: StatusCode.UNAVAILABLE, internal: Milvus Proxy is not ready yet. please wait>\u001b[0m\n",
      "2023-06-09 19:41:08,115 - 8636474624 - decorators.py-decorators:71 - WARNING: \u001b[93m[has_collection] retry:5, cost: 0.81s, reason: <_MultiThreadedRendezvous: StatusCode.UNAVAILABLE, internal: Milvus Proxy is not ready yet. please wait>\u001b[0m\n",
      "2023-06-09 19:41:08,936 - 8636474624 - decorators.py-decorators:71 - WARNING: \u001b[93m[has_collection] retry:6, cost: 2.43s, reason: <_MultiThreadedRendezvous: StatusCode.UNAVAILABLE, internal: Milvus Proxy is not ready yet. please wait>\u001b[0m\n",
      "2023-06-09 19:41:11,375 - 8636474624 - decorators.py-decorators:71 - WARNING: \u001b[93m[has_collection] retry:7, cost: 7.29s, reason: <_MultiThreadedRendezvous: StatusCode.UNAVAILABLE, internal: Milvus Proxy is not ready yet. please wait>\u001b[0m\n"
     ]
    },
    {
     "name": "stdout",
     "output_type": "stream",
     "text": [
      "A new collection created: reverse_image_search\n"
     ]
    }
   ],
   "source": [
    "# Connect to Milvus service\n",
    "connections.connect(host=HOST, port=PORT)\n",
    "\n",
    "# Create collection\n",
    "collection = create_milvus_collection(COLLECTION_NAME, DIM)\n",
    "print(f'A new collection created: {COLLECTION_NAME}')"
   ]
  },
  {
   "attachments": {},
   "cell_type": "markdown",
   "metadata": {},
   "source": [
    "## Insert Image embeddings into Milvus"
   ]
  },
  {
   "cell_type": "code",
   "execution_count": 6,
   "metadata": {},
   "outputs": [
    {
     "name": "stderr",
     "output_type": "stream",
     "text": [
      "2023-06-09 19:26:55,972 - 8745886976 - builder.py-builder:816 - WARNING: Found cached dataset parquet (/Users/nilsertle/.cache/huggingface/datasets/Maysee___parquet/Maysee--tiny-imagenet-35af7c46a941f08e/0.0.0/2a3b91fbd88a2c90d1dbbb32b460cf621d31bd5b05b934492fdef7d8d6f236ec)\n"
     ]
    }
   ],
   "source": [
    "tiny_imagenet = load_dataset('Maysee/tiny-imagenet', split='train')\n",
    "\n",
    "def write_csv():\n",
    "    with open('tiny_imagenet.csv', 'w') as f:\n",
    "        writer = csv.writer(f)\n",
    "        writer.writerow(['id', 'image'])\n",
    "        # for i, path in enumerate(glob('./dataset/tiny-imagenet-200/train/*/*/*.JPEG')):\n",
    "        #     writer.writerow([i, path])\n",
    "        for i, img in enumerate(tiny_imagenet):\n",
    "            writer.writerow([i, img[\"image\"]])\n",
    "\n",
    "write_csv()\n"
   ]
  },
  {
   "cell_type": "code",
   "execution_count": null,
   "metadata": {},
   "outputs": [],
   "source": [
    "# Load image path\n",
    "def load_image(x):\n",
    "    if x.endswith('csv'):\n",
    "        with open(x) as f:\n",
    "            reader = csv.reader(f)\n",
    "            next(reader)\n",
    "            for item in reader:\n",
    "                yield item[1]\n",
    "    else:\n",
    "        for item in glob(x):\n",
    "            yield item"
   ]
  },
  {
   "cell_type": "code",
   "execution_count": 13,
   "metadata": {},
   "outputs": [],
   "source": [
    "from PIL import Image\n",
    "# Insert pipeline\n",
    "def load_Image(x):\n",
    "    yield x[\"image\"]\n",
    "\n",
    "p_embed_insert = (\n",
    "    pipe.input('dataset')\n",
    "        .flat_map('dataset', 'img', load_Image)\n",
    "        .map('img', 'vec', ops.image_embedding.timm(model_name=MODEL, device=DEVICE))\n",
    ")\n",
    "\n",
    "p_insert = (\n",
    "        p_embed_insert.map(('img', 'vec'), 'mr', ops.ann_insert.milvus_client(\n",
    "                    host=HOST,\n",
    "                    port=PORT,\n",
    "                    collection_name=COLLECTION_NAME\n",
    "                    ))\n",
    "          .output('mr')\n",
    ")"
   ]
  },
  {
   "cell_type": "code",
   "execution_count": 9,
   "metadata": {},
   "outputs": [
    {
     "name": "stderr",
     "output_type": "stream",
     "text": [
      "2023-06-09 19:29:08,362 - 8745886976 - builder.py-builder:816 - WARNING: Found cached dataset parquet (/Users/nilsertle/.cache/huggingface/datasets/Maysee___parquet/Maysee--tiny-imagenet-35af7c46a941f08e/0.0.0/2a3b91fbd88a2c90d1dbbb32b460cf621d31bd5b05b934492fdef7d8d6f236ec)\n"
     ]
    },
    {
     "data": {
      "text/plain": [
       "{'image': [<PIL.JpegImagePlugin.JpegImageFile image mode=RGB size=64x64>,\n",
       "  <PIL.JpegImagePlugin.JpegImageFile image mode=RGB size=64x64>,\n",
       "  <PIL.JpegImagePlugin.JpegImageFile image mode=RGB size=64x64>,\n",
       "  <PIL.JpegImagePlugin.JpegImageFile image mode=RGB size=64x64>,\n",
       "  <PIL.JpegImagePlugin.JpegImageFile image mode=RGB size=64x64>],\n",
       " 'label': [0, 0, 0, 0, 0]}"
      ]
     },
     "execution_count": 9,
     "metadata": {},
     "output_type": "execute_result"
    }
   ],
   "source": [
    "tiny_imagenet = load_dataset('Maysee/tiny-imagenet', split='train')[:5]\n",
    "tiny_imagenet"
   ]
  },
  {
   "cell_type": "code",
   "execution_count": 11,
   "metadata": {},
   "outputs": [
    {
     "ename": "RuntimeError",
     "evalue": "Node-load_Image-0 runs failed, error msg: string indices must be integers, Traceback (most recent call last):\n  File \"/Users/nilsertle/Code/bachelor-thesis/venv/lib/python3.9/site-packages/towhee/runtime/nodes/node.py\", line 170, in process\n    if self.process_step():\n  File \"/Users/nilsertle/Code/bachelor-thesis/venv/lib/python3.9/site-packages/towhee/runtime/nodes/_flat_map.py\", line 54, in process_step\n    for output in outputs:\n  File \"/var/folders/kg/v9q1cm1x6q9cqyr9zrc3f9480000gn/T/ipykernel_99402/2565511194.py\", line 4, in load_Image\n    yield x[\"image\"]\nTypeError: string indices must be integers\n\n",
     "output_type": "error",
     "traceback": [
      "\u001b[0;31m---------------------------------------------------------------------------\u001b[0m",
      "\u001b[0;31mRuntimeError\u001b[0m                              Traceback (most recent call last)",
      "Cell \u001b[0;32mIn[11], line 2\u001b[0m\n\u001b[1;32m      1\u001b[0m \u001b[39mfor\u001b[39;00m i \u001b[39min\u001b[39;00m tiny_imagenet:\n\u001b[0;32m----> 2\u001b[0m     DataCollection(p_insert(i))\u001b[39m.\u001b[39mshow()\n",
      "File \u001b[0;32m~/Code/bachelor-thesis/venv/lib/python3.9/site-packages/towhee/runtime/runtime_pipeline.py:121\u001b[0m, in \u001b[0;36mRuntimePipeline.__call__\u001b[0;34m(self, *inputs)\u001b[0m\n\u001b[1;32m    119\u001b[0m time_profiler\u001b[39m.\u001b[39mrecord(Event\u001b[39m.\u001b[39mpipe_name, Event\u001b[39m.\u001b[39mpipe_in, inputs)\n\u001b[1;32m    120\u001b[0m graph \u001b[39m=\u001b[39m Graph(\u001b[39mself\u001b[39m\u001b[39m.\u001b[39m_dag_repr\u001b[39m.\u001b[39mnodes, \u001b[39mself\u001b[39m\u001b[39m.\u001b[39m_dag_repr\u001b[39m.\u001b[39medges, \u001b[39mself\u001b[39m\u001b[39m.\u001b[39m_operator_pool, \u001b[39mself\u001b[39m\u001b[39m.\u001b[39m_thread_pool, time_profiler)\n\u001b[0;32m--> 121\u001b[0m outputs \u001b[39m=\u001b[39m graph(inputs)\n\u001b[1;32m    122\u001b[0m time_profiler\u001b[39m.\u001b[39mrecord(Event\u001b[39m.\u001b[39mpipe_name, Event\u001b[39m.\u001b[39mpipe_out)\n\u001b[1;32m    124\u001b[0m \u001b[39mself\u001b[39m\u001b[39m.\u001b[39m_time_profiler_list\u001b[39m.\u001b[39mappend(time_profiler)\n",
      "File \u001b[0;32m~/Code/bachelor-thesis/venv/lib/python3.9/site-packages/towhee/runtime/runtime_pipeline.py:85\u001b[0m, in \u001b[0;36mGraph.__call__\u001b[0;34m(self, *inputs)\u001b[0m\n\u001b[1;32m     82\u001b[0m     features\u001b[39m.\u001b[39mappend(\u001b[39mself\u001b[39m\u001b[39m.\u001b[39m_thread_pool\u001b[39m.\u001b[39msubmit(node\u001b[39m.\u001b[39mprocess))\n\u001b[1;32m     84\u001b[0m _ \u001b[39m=\u001b[39m [f\u001b[39m.\u001b[39mresult() \u001b[39mfor\u001b[39;00m f \u001b[39min\u001b[39;00m features]\n\u001b[0;32m---> 85\u001b[0m \u001b[39mreturn\u001b[39;00m \u001b[39mself\u001b[39;49m\u001b[39m.\u001b[39;49mresult()\n",
      "File \u001b[0;32m~/Code/bachelor-thesis/venv/lib/python3.9/site-packages/towhee/runtime/runtime_pipeline.py:72\u001b[0m, in \u001b[0;36mGraph.result\u001b[0;34m(self)\u001b[0m\n\u001b[1;32m     70\u001b[0m             errs \u001b[39m+\u001b[39m\u001b[39m=\u001b[39m node\u001b[39m.\u001b[39merr_msg \u001b[39m+\u001b[39m \u001b[39m'\u001b[39m\u001b[39m\\n\u001b[39;00m\u001b[39m'\u001b[39m\n\u001b[1;32m     71\u001b[0m \u001b[39mif\u001b[39;00m errs:\n\u001b[0;32m---> 72\u001b[0m     \u001b[39mraise\u001b[39;00m \u001b[39mRuntimeError\u001b[39;00m(errs)\n\u001b[1;32m     73\u001b[0m end_edge_num \u001b[39m=\u001b[39m \u001b[39mself\u001b[39m\u001b[39m.\u001b[39m_nodes[\u001b[39m'\u001b[39m\u001b[39m_output\u001b[39m\u001b[39m'\u001b[39m]\u001b[39m.\u001b[39mout_edges[\u001b[39m0\u001b[39m]\n\u001b[1;32m     74\u001b[0m res \u001b[39m=\u001b[39m \u001b[39mself\u001b[39m\u001b[39m.\u001b[39m_data_queues[end_edge_num]\n",
      "\u001b[0;31mRuntimeError\u001b[0m: Node-load_Image-0 runs failed, error msg: string indices must be integers, Traceback (most recent call last):\n  File \"/Users/nilsertle/Code/bachelor-thesis/venv/lib/python3.9/site-packages/towhee/runtime/nodes/node.py\", line 170, in process\n    if self.process_step():\n  File \"/Users/nilsertle/Code/bachelor-thesis/venv/lib/python3.9/site-packages/towhee/runtime/nodes/_flat_map.py\", line 54, in process_step\n    for output in outputs:\n  File \"/var/folders/kg/v9q1cm1x6q9cqyr9zrc3f9480000gn/T/ipykernel_99402/2565511194.py\", line 4, in load_Image\n    yield x[\"image\"]\nTypeError: string indices must be integers\n\n"
     ]
    }
   ],
   "source": [
    "for i in tiny_imagenet:\n",
    "    DataCollection(p_insert(i)).show()"
   ]
  },
  {
   "cell_type": "code",
   "execution_count": 15,
   "metadata": {},
   "outputs": [
    {
     "name": "stderr",
     "output_type": "stream",
     "text": [
      "2023-06-09 19:43:19,598 - 8636474624 - builder.py-builder:816 - WARNING: Found cached dataset parquet (/Users/nilsertle/.cache/huggingface/datasets/Maysee___parquet/Maysee--tiny-imagenet-35af7c46a941f08e/0.0.0/2a3b91fbd88a2c90d1dbbb32b460cf621d31bd5b05b934492fdef7d8d6f236ec)\n"
     ]
    },
    {
     "name": "stdout",
     "output_type": "stream",
     "text": [
      "{'image': <PIL.JpegImagePlugin.JpegImageFile image mode=RGB size=64x64 at 0x1698E9400>, 'label': 0}\n"
     ]
    }
   ],
   "source": [
    "# Insert data to Milvus from dataset\n",
    "tiny_imagenet = load_dataset('Maysee/tiny-imagenet', split='train')[0]\n",
    "print(tiny_imagenet)\n",
    "# print(tiny_imagenet[0])\n"
   ]
  },
  {
   "cell_type": "code",
   "execution_count": 16,
   "metadata": {},
   "outputs": [
    {
     "ename": "RuntimeError",
     "evalue": "Node-ann-insert/milvus-client-2 runs failed, error msg: 'JpegImageFile' object is not subscriptable, Traceback (most recent call last):\n  File \"/Users/nilsertle/Code/bachelor-thesis/venv/lib/python3.9/site-packages/towhee/runtime/nodes/node.py\", line 156, in _call\n    return True, self._op(*inputs), None\n  File \"/Users/nilsertle/.towhee/operators/ann-insert/milvus_client/main/milvus_client.py\", line 45, in __call__\n    mr = self._collection.insert(row)\n  File \"/Users/nilsertle/Code/bachelor-thesis/venv/lib/python3.9/site-packages/pymilvus/orm/collection.py\", line 424, in insert\n    check_insert_data_schema(self._schema, data)\n  File \"/Users/nilsertle/Code/bachelor-thesis/venv/lib/python3.9/site-packages/pymilvus/orm/schema.py\", line 312, in check_insert_data_schema\n    infer_fields = parse_fields_from_data(data)\n  File \"/Users/nilsertle/Code/bachelor-thesis/venv/lib/python3.9/site-packages/pymilvus/orm/schema.py\", line 343, in parse_fields_from_data\n    fields = [FieldSchema(\"\", infer_dtype_bydata(d[0])) for d in data]\n  File \"/Users/nilsertle/Code/bachelor-thesis/venv/lib/python3.9/site-packages/pymilvus/orm/schema.py\", line 343, in <listcomp>\n    fields = [FieldSchema(\"\", infer_dtype_bydata(d[0])) for d in data]\n  File \"/Users/nilsertle/Code/bachelor-thesis/venv/lib/python3.9/site-packages/pymilvus/orm/types.py\", line 123, in infer_dtype_bydata\n    elem = data[0]\nTypeError: 'JpegImageFile' object is not subscriptable\n\n",
     "output_type": "error",
     "traceback": [
      "\u001b[0;31m---------------------------------------------------------------------------\u001b[0m",
      "\u001b[0;31mRuntimeError\u001b[0m                              Traceback (most recent call last)",
      "Cell \u001b[0;32mIn[16], line 5\u001b[0m\n\u001b[1;32m      1\u001b[0m \u001b[39m# Dataset({\u001b[39;00m\n\u001b[1;32m      2\u001b[0m \u001b[39m#     features: ['image', 'label'],\u001b[39;00m\n\u001b[1;32m      3\u001b[0m \u001b[39m#     num_rows: 100000\u001b[39;00m\n\u001b[1;32m      4\u001b[0m \u001b[39m# })\u001b[39;00m\n\u001b[0;32m----> 5\u001b[0m p_insert(tiny_imagenet)\n\u001b[1;32m      7\u001b[0m \u001b[39m# Check collection\u001b[39;00m\n\u001b[1;32m      8\u001b[0m collection \u001b[39m=\u001b[39m Collection(name\u001b[39m=\u001b[39mCOLLECTION_NAME)\n",
      "File \u001b[0;32m~/Code/bachelor-thesis/venv/lib/python3.9/site-packages/towhee/runtime/runtime_pipeline.py:121\u001b[0m, in \u001b[0;36mRuntimePipeline.__call__\u001b[0;34m(self, *inputs)\u001b[0m\n\u001b[1;32m    119\u001b[0m time_profiler\u001b[39m.\u001b[39mrecord(Event\u001b[39m.\u001b[39mpipe_name, Event\u001b[39m.\u001b[39mpipe_in, inputs)\n\u001b[1;32m    120\u001b[0m graph \u001b[39m=\u001b[39m Graph(\u001b[39mself\u001b[39m\u001b[39m.\u001b[39m_dag_repr\u001b[39m.\u001b[39mnodes, \u001b[39mself\u001b[39m\u001b[39m.\u001b[39m_dag_repr\u001b[39m.\u001b[39medges, \u001b[39mself\u001b[39m\u001b[39m.\u001b[39m_operator_pool, \u001b[39mself\u001b[39m\u001b[39m.\u001b[39m_thread_pool, time_profiler)\n\u001b[0;32m--> 121\u001b[0m outputs \u001b[39m=\u001b[39m graph(inputs)\n\u001b[1;32m    122\u001b[0m time_profiler\u001b[39m.\u001b[39mrecord(Event\u001b[39m.\u001b[39mpipe_name, Event\u001b[39m.\u001b[39mpipe_out)\n\u001b[1;32m    124\u001b[0m \u001b[39mself\u001b[39m\u001b[39m.\u001b[39m_time_profiler_list\u001b[39m.\u001b[39mappend(time_profiler)\n",
      "File \u001b[0;32m~/Code/bachelor-thesis/venv/lib/python3.9/site-packages/towhee/runtime/runtime_pipeline.py:85\u001b[0m, in \u001b[0;36mGraph.__call__\u001b[0;34m(self, *inputs)\u001b[0m\n\u001b[1;32m     82\u001b[0m     features\u001b[39m.\u001b[39mappend(\u001b[39mself\u001b[39m\u001b[39m.\u001b[39m_thread_pool\u001b[39m.\u001b[39msubmit(node\u001b[39m.\u001b[39mprocess))\n\u001b[1;32m     84\u001b[0m _ \u001b[39m=\u001b[39m [f\u001b[39m.\u001b[39mresult() \u001b[39mfor\u001b[39;00m f \u001b[39min\u001b[39;00m features]\n\u001b[0;32m---> 85\u001b[0m \u001b[39mreturn\u001b[39;00m \u001b[39mself\u001b[39;49m\u001b[39m.\u001b[39;49mresult()\n",
      "File \u001b[0;32m~/Code/bachelor-thesis/venv/lib/python3.9/site-packages/towhee/runtime/runtime_pipeline.py:72\u001b[0m, in \u001b[0;36mGraph.result\u001b[0;34m(self)\u001b[0m\n\u001b[1;32m     70\u001b[0m             errs \u001b[39m+\u001b[39m\u001b[39m=\u001b[39m node\u001b[39m.\u001b[39merr_msg \u001b[39m+\u001b[39m \u001b[39m'\u001b[39m\u001b[39m\\n\u001b[39;00m\u001b[39m'\u001b[39m\n\u001b[1;32m     71\u001b[0m \u001b[39mif\u001b[39;00m errs:\n\u001b[0;32m---> 72\u001b[0m     \u001b[39mraise\u001b[39;00m \u001b[39mRuntimeError\u001b[39;00m(errs)\n\u001b[1;32m     73\u001b[0m end_edge_num \u001b[39m=\u001b[39m \u001b[39mself\u001b[39m\u001b[39m.\u001b[39m_nodes[\u001b[39m'\u001b[39m\u001b[39m_output\u001b[39m\u001b[39m'\u001b[39m]\u001b[39m.\u001b[39mout_edges[\u001b[39m0\u001b[39m]\n\u001b[1;32m     74\u001b[0m res \u001b[39m=\u001b[39m \u001b[39mself\u001b[39m\u001b[39m.\u001b[39m_data_queues[end_edge_num]\n",
      "\u001b[0;31mRuntimeError\u001b[0m: Node-ann-insert/milvus-client-2 runs failed, error msg: 'JpegImageFile' object is not subscriptable, Traceback (most recent call last):\n  File \"/Users/nilsertle/Code/bachelor-thesis/venv/lib/python3.9/site-packages/towhee/runtime/nodes/node.py\", line 156, in _call\n    return True, self._op(*inputs), None\n  File \"/Users/nilsertle/.towhee/operators/ann-insert/milvus_client/main/milvus_client.py\", line 45, in __call__\n    mr = self._collection.insert(row)\n  File \"/Users/nilsertle/Code/bachelor-thesis/venv/lib/python3.9/site-packages/pymilvus/orm/collection.py\", line 424, in insert\n    check_insert_data_schema(self._schema, data)\n  File \"/Users/nilsertle/Code/bachelor-thesis/venv/lib/python3.9/site-packages/pymilvus/orm/schema.py\", line 312, in check_insert_data_schema\n    infer_fields = parse_fields_from_data(data)\n  File \"/Users/nilsertle/Code/bachelor-thesis/venv/lib/python3.9/site-packages/pymilvus/orm/schema.py\", line 343, in parse_fields_from_data\n    fields = [FieldSchema(\"\", infer_dtype_bydata(d[0])) for d in data]\n  File \"/Users/nilsertle/Code/bachelor-thesis/venv/lib/python3.9/site-packages/pymilvus/orm/schema.py\", line 343, in <listcomp>\n    fields = [FieldSchema(\"\", infer_dtype_bydata(d[0])) for d in data]\n  File \"/Users/nilsertle/Code/bachelor-thesis/venv/lib/python3.9/site-packages/pymilvus/orm/types.py\", line 123, in infer_dtype_bydata\n    elem = data[0]\nTypeError: 'JpegImageFile' object is not subscriptable\n\n"
     ]
    }
   ],
   "source": [
    "# Dataset({\n",
    "#     features: ['image', 'label'],\n",
    "#     num_rows: 100000\n",
    "# })\n",
    "p_insert(tiny_imagenet)\n",
    "\n",
    "# Check collection\n",
    "collection = Collection(name=COLLECTION_NAME)\n",
    "print('Number of data inserted:', collection.num_entities)"
   ]
  },
  {
   "cell_type": "code",
   "execution_count": 8,
   "metadata": {},
   "outputs": [
    {
     "name": "stdout",
     "output_type": "stream",
     "text": [
      "Number of data inserted: 0\n"
     ]
    }
   ],
   "source": [
    "# Check collection\n",
    "collection = Collection(name=COLLECTION_NAME)\n",
    "print('Number of data inserted:', collection.num_entities)"
   ]
  },
  {
   "attachments": {},
   "cell_type": "markdown",
   "metadata": {},
   "source": [
    "## Search the databse"
   ]
  },
  {
   "cell_type": "code",
   "execution_count": null,
   "metadata": {},
   "outputs": [],
   "source": [
    "# Search pipeline\n",
    "p_search_pre = (\n",
    "        p_embed.map('vec', ('search_res'), ops.ann_search.milvus_client(\n",
    "                    host=HOST, port=PORT, limit=TOPK,\n",
    "                    collection_name=COLLECTION_NAME))\n",
    "               .map('search_res', 'pred', lambda x: [str(Path(y[0]).resolve()) for y in x])\n",
    "#                .output('img_path', 'pred')\n",
    ")\n",
    "p_search = p_search_pre.output('img_path', 'pred')"
   ]
  },
  {
   "cell_type": "code",
   "execution_count": null,
   "metadata": {},
   "outputs": [],
   "source": [
    "# Search for example query image(s)\n",
    "collection.load()\n",
    "dc = p_search('test/goldfish/*.JPEG')\n",
    "\n",
    "# Display search results with image paths\n",
    "DataCollection(dc).show()"
   ]
  },
  {
   "cell_type": "code",
   "execution_count": null,
   "metadata": {},
   "outputs": [],
   "source": [
    "# Display search results with images, no need for implementation\n",
    "\n",
    "import cv2\n",
    "from towhee.types.image import Image\n",
    "\n",
    "def read_images(img_paths):\n",
    "    imgs = []\n",
    "    for p in img_paths:\n",
    "        imgs.append(Image(cv2.imread(p), 'BGR'))\n",
    "    return imgs\n",
    "\n",
    "p_search_img = (\n",
    "    p_search_pre.map('pred', 'pred images', read_images)\n",
    "                .output('img', 'pred images')\n",
    ")\n",
    "DataCollection(p_search_img('test/dishwasher/*.JPEG')).show()"
   ]
  },
  {
   "attachments": {},
   "cell_type": "markdown",
   "metadata": {},
   "source": [
    "## Measure performance"
   ]
  },
  {
   "cell_type": "code",
   "execution_count": null,
   "metadata": {},
   "outputs": [],
   "source": [
    "# Get ground truth by path of query image\n",
    "def ground_truth(path):\n",
    "    train_path = str(Path(path).parent).replace('test', 'train')\n",
    "    return [str(Path(x).resolve()) for x in glob(train_path + '/*.JPEG')]\n",
    "\n",
    "# Calculate Average Precision by a list of predictions and a list of ground truths\n",
    "def get_ap(pred: list, gt: list):\n",
    "    ct = 0\n",
    "    score = 0.\n",
    "    for i, n in enumerate(pred):\n",
    "        if n in gt:\n",
    "            ct += 1\n",
    "            score += (ct / (i + 1))\n",
    "    if ct == 0:\n",
    "        ap = 0\n",
    "    else:\n",
    "        ap = score / ct\n",
    "    return ap"
   ]
  },
  {
   "cell_type": "code",
   "execution_count": null,
   "metadata": {},
   "outputs": [],
   "source": [
    "# Evaluation pipeline returns AP\n",
    "p_eval = (\n",
    "    p_search_pre.map('img_path', 'gt', ground_truth)\n",
    "                .map(('pred', 'gt'), 'ap', get_ap)\n",
    "                .output('ap')\n",
    ")"
   ]
  },
  {
   "cell_type": "code",
   "execution_count": null,
   "metadata": {},
   "outputs": [],
   "source": [
    "import time\n",
    "import psutil\n",
    "import os\n",
    "\n",
    "# Get the current process ID\n",
    "pid = os.getpid()\n",
    "\n",
    "# Create a Process object for the current process\n",
    "process = psutil.Process(pid)\n",
    "\n",
    "# Run evaluation pipeline over all test data\n",
    "start = time.time()\n",
    "bm = p_eval('test/*/*.JPEG')\n",
    "end = time.time()\n",
    "\n",
    "# Get the CPU and memory usage\n",
    "cpu_percent = process.cpu_percent()\n",
    "mem_percent = process.memory_percent()\n",
    "\n",
    "# Group AP in a list\n",
    "res = DataCollection(bm).to_list()\n",
    "\n",
    "# Calculate mAP\n",
    "mAP = mean([x.ap for x in res])\n",
    "\n",
    "# mean average precision at 10\n",
    "print(f'mAP@{TOPK}: {mAP}')\n",
    "# queries per second\n",
    "print(f'qps: {len(res) / (end - start)}')\n",
    "# time per query\n",
    "print(f'time per query: {(end - start) / len(res)}')\n",
    "# Print the results\n",
    "print(f\"CPU usage: {cpu_percent}%\")\n",
    "print(f\"Memory usage: {mem_percent}%\")"
   ]
  }
 ],
 "metadata": {
  "kernelspec": {
   "display_name": "venv",
   "language": "python",
   "name": "python3"
  },
  "language_info": {
   "codemirror_mode": {
    "name": "ipython",
    "version": 3
   },
   "file_extension": ".py",
   "mimetype": "text/x-python",
   "name": "python",
   "nbconvert_exporter": "python",
   "pygments_lexer": "ipython3",
   "version": "3.9.6"
  },
  "orig_nbformat": 4,
  "vscode": {
   "interpreter": {
    "hash": "5a9262af2f1630afad2531cee187f1ee4d3b42a10b768e16c9fb1ee608bac44c"
   }
  }
 },
 "nbformat": 4,
 "nbformat_minor": 2
}
